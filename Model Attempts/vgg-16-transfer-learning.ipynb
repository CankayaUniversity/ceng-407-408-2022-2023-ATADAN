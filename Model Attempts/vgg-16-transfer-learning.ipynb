{
 "cells": [
  {
   "cell_type": "code",
   "execution_count": 1,
   "id": "0e65c8f9",
   "metadata": {
    "execution": {
     "iopub.execute_input": "2023-05-03T14:29:21.059544Z",
     "iopub.status.busy": "2023-05-03T14:29:21.059158Z",
     "iopub.status.idle": "2023-05-03T14:29:31.238828Z",
     "shell.execute_reply": "2023-05-03T14:29:31.237515Z"
    },
    "papermill": {
     "duration": 10.190165,
     "end_time": "2023-05-03T14:29:31.241569",
     "exception": false,
     "start_time": "2023-05-03T14:29:21.051404",
     "status": "completed"
    },
    "tags": []
   },
   "outputs": [
    {
     "name": "stdout",
     "output_type": "stream",
     "text": [
      "Collecting split-folders\r\n",
      "  Downloading split_folders-0.5.1-py3-none-any.whl (8.4 kB)\r\n",
      "Installing collected packages: split-folders\r\n",
      "Successfully installed split-folders-0.5.1\r\n",
      "\u001b[33mWARNING: Running pip as the 'root' user can result in broken permissions and conflicting behaviour with the system package manager. It is recommended to use a virtual environment instead: https://pip.pypa.io/warnings/venv\u001b[0m\u001b[33m\r\n",
      "\u001b[0m"
     ]
    }
   ],
   "source": [
    "!pip install split-folders"
   ]
  },
  {
   "cell_type": "code",
   "execution_count": 2,
   "id": "b88cc8ba",
   "metadata": {
    "_cell_guid": "b1076dfc-b9ad-4769-8c92-a6c4dae69d19",
    "_uuid": "8f2839f25d086af736a60e9eeb907d3b93b6e0e5",
    "execution": {
     "iopub.execute_input": "2023-05-03T14:29:31.255086Z",
     "iopub.status.busy": "2023-05-03T14:29:31.253380Z",
     "iopub.status.idle": "2023-05-03T14:29:39.147214Z",
     "shell.execute_reply": "2023-05-03T14:29:39.146241Z"
    },
    "papermill": {
     "duration": 7.902305,
     "end_time": "2023-05-03T14:29:39.149157",
     "exception": false,
     "start_time": "2023-05-03T14:29:31.246852",
     "status": "completed"
    },
    "tags": []
   },
   "outputs": [
    {
     "name": "stderr",
     "output_type": "stream",
     "text": [
      "/opt/conda/lib/python3.10/site-packages/scipy/__init__.py:146: UserWarning: A NumPy version >=1.16.5 and <1.23.0 is required for this version of SciPy (detected version 1.23.5\n",
      "  warnings.warn(f\"A NumPy version >={np_minversion} and <{np_maxversion}\"\n"
     ]
    },
    {
     "name": "stdout",
     "output_type": "stream",
     "text": [
      "Done with importing the packages!\n"
     ]
    }
   ],
   "source": [
    "import pandas as pd\n",
    "import numpy as np\n",
    "import os\n",
    "import keras\n",
    "import matplotlib.pyplot as plt\n",
    "from keras.layers import Dense,GlobalAveragePooling2D\n",
    "from keras.applications import MobileNet\n",
    "from keras.preprocessing import image\n",
    "from keras.applications.mobilenet import preprocess_input\n",
    "from keras.preprocessing.image import ImageDataGenerator\n",
    "from keras.models import Model\n",
    "from keras.optimizers import Adam\n",
    "from sklearn.datasets import make_blobs\n",
    "from sklearn.model_selection import train_test_split\n",
    "from re import sub\n",
    "import tensorflow as tf\n",
    "from tensorflow.keras import metrics\n",
    "import matplotlib.colors as mcolors\n",
    "from tensorflow.keras.models import Sequential\n",
    "from tensorflow.keras.layers import BatchNormalization\n",
    "from tensorflow.keras.layers import Conv2D\n",
    "from tensorflow.keras.layers import MaxPooling2D\n",
    "from tensorflow.keras.layers import Activation, Flatten, Dropout, Dense\n",
    "from tensorflow.keras.optimizers import Adam\n",
    "from tensorflow.keras.preprocessing import image\n",
    "from tensorflow.keras import models\n",
    "from tensorflow.keras.preprocessing import image_dataset_from_directory\n",
    "\n",
    "\n",
    "import os,os.path\n",
    "import splitfolders\n",
    "import shutil\n",
    "\n",
    "import seaborn as sns\n",
    "import matplotlib.pyplot as plt\n",
    "import matplotlib.image as mpimg\n",
    "import matplotlib\n",
    "\n",
    "import keras.backend as K\n",
    "from tensorflow import keras\n",
    "from tensorflow.keras import layers, models\n",
    "from tensorflow.keras.preprocessing.image import ImageDataGenerator\n",
    "from tensorflow.keras.layers import Dense, Dropout, Flatten, BatchNormalization\n",
    "from tensorflow.keras.callbacks import Callback, EarlyStopping, ModelCheckpoint\n",
    "from keras.applications.vgg16 import VGG16\n",
    "from tensorflow.keras import Model\n",
    "from tensorflow.keras.layers.experimental import preprocessing\n",
    "from tensorflow.keras.preprocessing import image_dataset_from_directory\n",
    "\n",
    "matplotlib.style.use('ggplot')\n",
    "%matplotlib inline\n",
    "\n",
    "print(\"Done with importing the packages!\")"
   ]
  },
  {
   "cell_type": "code",
   "execution_count": 3,
   "id": "010167d6",
   "metadata": {
    "execution": {
     "iopub.execute_input": "2023-05-03T14:29:39.159616Z",
     "iopub.status.busy": "2023-05-03T14:29:39.159127Z",
     "iopub.status.idle": "2023-05-03T14:29:39.163773Z",
     "shell.execute_reply": "2023-05-03T14:29:39.162866Z"
    },
    "papermill": {
     "duration": 0.011757,
     "end_time": "2023-05-03T14:29:39.165593",
     "exception": false,
     "start_time": "2023-05-03T14:29:39.153836",
     "status": "completed"
    },
    "tags": []
   },
   "outputs": [],
   "source": [
    "# Set some default variables\n",
    "DATA_DIR = '/kaggle/input/plantvillage-dataset/color'\n",
    "BATCH_SIZE = 64\n",
    "IMAGE_SHAPE = (224, 224)"
   ]
  },
  {
   "cell_type": "markdown",
   "id": "2af38a0c",
   "metadata": {
    "papermill": {
     "duration": 0.00426,
     "end_time": "2023-05-03T14:29:39.174217",
     "exception": false,
     "start_time": "2023-05-03T14:29:39.169957",
     "status": "completed"
    },
    "tags": []
   },
   "source": [
    "# F1 Macro Function"
   ]
  },
  {
   "cell_type": "code",
   "execution_count": 4,
   "id": "d1bf9ba4",
   "metadata": {
    "execution": {
     "iopub.execute_input": "2023-05-03T14:29:39.184224Z",
     "iopub.status.busy": "2023-05-03T14:29:39.183784Z",
     "iopub.status.idle": "2023-05-03T14:29:39.190556Z",
     "shell.execute_reply": "2023-05-03T14:29:39.189450Z"
    },
    "papermill": {
     "duration": 0.014192,
     "end_time": "2023-05-03T14:29:39.192675",
     "exception": false,
     "start_time": "2023-05-03T14:29:39.178483",
     "status": "completed"
    },
    "tags": []
   },
   "outputs": [],
   "source": [
    "# The function for computing f1 score (macro) for multiclass classification in Keras\n",
    "def f1_macro(y_true, y_pred):    \n",
    "    def recall_m(y_true, y_pred):\n",
    "        TP = K.sum(K.round(K.clip(y_true * y_pred, 0, 1)))\n",
    "        Positives = K.sum(K.round(K.clip(y_true, 0, 1)))\n",
    "        \n",
    "        recall = TP / (Positives+K.epsilon())    \n",
    "        return recall \n",
    "    \n",
    "    \n",
    "    def precision_m(y_true, y_pred):\n",
    "        TP = K.sum(K.round(K.clip(y_true * y_pred, 0, 1)))\n",
    "        Pred_Positives = K.sum(K.round(K.clip(y_pred, 0, 1)))\n",
    "    \n",
    "        precision = TP / (Pred_Positives+K.epsilon())\n",
    "        return precision \n",
    "    \n",
    "    precision, recall = precision_m(y_true, y_pred), recall_m(y_true, y_pred)\n",
    "    \n",
    "    return 2*((precision*recall)/(precision+recall+K.epsilon()))"
   ]
  },
  {
   "cell_type": "markdown",
   "id": "1cb2beec",
   "metadata": {
    "papermill": {
     "duration": 0.004344,
     "end_time": "2023-05-03T14:29:39.201289",
     "exception": false,
     "start_time": "2023-05-03T14:29:39.196945",
     "status": "completed"
    },
    "tags": []
   },
   "source": [
    "# Overview of the Content"
   ]
  },
  {
   "cell_type": "code",
   "execution_count": 5,
   "id": "c41dbca0",
   "metadata": {
    "execution": {
     "iopub.execute_input": "2023-05-03T14:29:39.210916Z",
     "iopub.status.busy": "2023-05-03T14:29:39.210651Z",
     "iopub.status.idle": "2023-05-03T14:29:47.929953Z",
     "shell.execute_reply": "2023-05-03T14:29:47.929031Z"
    },
    "papermill": {
     "duration": 8.726748,
     "end_time": "2023-05-03T14:29:47.932238",
     "exception": false,
     "start_time": "2023-05-03T14:29:39.205490",
     "status": "completed"
    },
    "tags": []
   },
   "outputs": [
    {
     "data": {
      "text/html": [
       "<div>\n",
       "<style scoped>\n",
       "    .dataframe tbody tr th:only-of-type {\n",
       "        vertical-align: middle;\n",
       "    }\n",
       "\n",
       "    .dataframe tbody tr th {\n",
       "        vertical-align: top;\n",
       "    }\n",
       "\n",
       "    .dataframe thead th {\n",
       "        text-align: right;\n",
       "    }\n",
       "</style>\n",
       "<table border=\"1\" class=\"dataframe\">\n",
       "  <thead>\n",
       "    <tr style=\"text-align: right;\">\n",
       "      <th></th>\n",
       "      <th>Plant</th>\n",
       "      <th>Disease</th>\n",
       "      <th>Directory</th>\n",
       "      <th>Files</th>\n",
       "    </tr>\n",
       "  </thead>\n",
       "  <tbody>\n",
       "    <tr>\n",
       "      <th>27</th>\n",
       "      <td>Apple</td>\n",
       "      <td>healthy</td>\n",
       "      <td>Apple___healthy</td>\n",
       "      <td>1645</td>\n",
       "    </tr>\n",
       "    <tr>\n",
       "      <th>20</th>\n",
       "      <td>Apple</td>\n",
       "      <td>Cedar_apple_rust</td>\n",
       "      <td>Apple___Cedar_apple_rust</td>\n",
       "      <td>275</td>\n",
       "    </tr>\n",
       "    <tr>\n",
       "      <th>16</th>\n",
       "      <td>Apple</td>\n",
       "      <td>Black_rot</td>\n",
       "      <td>Apple___Black_rot</td>\n",
       "      <td>621</td>\n",
       "    </tr>\n",
       "    <tr>\n",
       "      <th>13</th>\n",
       "      <td>Apple</td>\n",
       "      <td>Apple_scab</td>\n",
       "      <td>Apple___Apple_scab</td>\n",
       "      <td>630</td>\n",
       "    </tr>\n",
       "    <tr>\n",
       "      <th>17</th>\n",
       "      <td>Blueberry</td>\n",
       "      <td>healthy</td>\n",
       "      <td>Blueberry___healthy</td>\n",
       "      <td>1502</td>\n",
       "    </tr>\n",
       "    <tr>\n",
       "      <th>18</th>\n",
       "      <td>Cherry_(including_sour)</td>\n",
       "      <td>Powdery_mildew</td>\n",
       "      <td>Cherry_(including_sour)___Powdery_mildew</td>\n",
       "      <td>1052</td>\n",
       "    </tr>\n",
       "    <tr>\n",
       "      <th>30</th>\n",
       "      <td>Cherry_(including_sour)</td>\n",
       "      <td>healthy</td>\n",
       "      <td>Cherry_(including_sour)___healthy</td>\n",
       "      <td>854</td>\n",
       "    </tr>\n",
       "    <tr>\n",
       "      <th>31</th>\n",
       "      <td>Corn_(maize)</td>\n",
       "      <td>Common_rust_</td>\n",
       "      <td>Corn_(maize)___Common_rust_</td>\n",
       "      <td>1192</td>\n",
       "    </tr>\n",
       "    <tr>\n",
       "      <th>10</th>\n",
       "      <td>Corn_(maize)</td>\n",
       "      <td>Cercospora_leaf_spot Gray_leaf_spot</td>\n",
       "      <td>Corn_(maize)___Cercospora_leaf_spot Gray_leaf_...</td>\n",
       "      <td>513</td>\n",
       "    </tr>\n",
       "    <tr>\n",
       "      <th>37</th>\n",
       "      <td>Corn_(maize)</td>\n",
       "      <td>healthy</td>\n",
       "      <td>Corn_(maize)___healthy</td>\n",
       "      <td>1162</td>\n",
       "    </tr>\n",
       "    <tr>\n",
       "      <th>7</th>\n",
       "      <td>Corn_(maize)</td>\n",
       "      <td>Northern_Leaf_Blight</td>\n",
       "      <td>Corn_(maize)___Northern_Leaf_Blight</td>\n",
       "      <td>985</td>\n",
       "    </tr>\n",
       "    <tr>\n",
       "      <th>23</th>\n",
       "      <td>Grape</td>\n",
       "      <td>Leaf_blight_(Isariopsis_Leaf_Spot)</td>\n",
       "      <td>Grape___Leaf_blight_(Isariopsis_Leaf_Spot)</td>\n",
       "      <td>1076</td>\n",
       "    </tr>\n",
       "    <tr>\n",
       "      <th>28</th>\n",
       "      <td>Grape</td>\n",
       "      <td>Black_rot</td>\n",
       "      <td>Grape___Black_rot</td>\n",
       "      <td>1180</td>\n",
       "    </tr>\n",
       "    <tr>\n",
       "      <th>32</th>\n",
       "      <td>Grape</td>\n",
       "      <td>Esca_(Black_Measles)</td>\n",
       "      <td>Grape___Esca_(Black_Measles)</td>\n",
       "      <td>1383</td>\n",
       "    </tr>\n",
       "    <tr>\n",
       "      <th>2</th>\n",
       "      <td>Grape</td>\n",
       "      <td>healthy</td>\n",
       "      <td>Grape___healthy</td>\n",
       "      <td>423</td>\n",
       "    </tr>\n",
       "    <tr>\n",
       "      <th>3</th>\n",
       "      <td>Orange</td>\n",
       "      <td>Haunglongbing_(Citrus_greening)</td>\n",
       "      <td>Orange___Haunglongbing_(Citrus_greening)</td>\n",
       "      <td>5507</td>\n",
       "    </tr>\n",
       "    <tr>\n",
       "      <th>19</th>\n",
       "      <td>Peach</td>\n",
       "      <td>Bacterial_spot</td>\n",
       "      <td>Peach___Bacterial_spot</td>\n",
       "      <td>2297</td>\n",
       "    </tr>\n",
       "    <tr>\n",
       "      <th>12</th>\n",
       "      <td>Peach</td>\n",
       "      <td>healthy</td>\n",
       "      <td>Peach___healthy</td>\n",
       "      <td>360</td>\n",
       "    </tr>\n",
       "    <tr>\n",
       "      <th>36</th>\n",
       "      <td>Pepper,_bell</td>\n",
       "      <td>Bacterial_spot</td>\n",
       "      <td>Pepper,_bell___Bacterial_spot</td>\n",
       "      <td>997</td>\n",
       "    </tr>\n",
       "    <tr>\n",
       "      <th>22</th>\n",
       "      <td>Pepper,_bell</td>\n",
       "      <td>healthy</td>\n",
       "      <td>Pepper,_bell___healthy</td>\n",
       "      <td>1478</td>\n",
       "    </tr>\n",
       "    <tr>\n",
       "      <th>6</th>\n",
       "      <td>Potato</td>\n",
       "      <td>healthy</td>\n",
       "      <td>Potato___healthy</td>\n",
       "      <td>152</td>\n",
       "    </tr>\n",
       "    <tr>\n",
       "      <th>29</th>\n",
       "      <td>Potato</td>\n",
       "      <td>Early_blight</td>\n",
       "      <td>Potato___Early_blight</td>\n",
       "      <td>1000</td>\n",
       "    </tr>\n",
       "    <tr>\n",
       "      <th>24</th>\n",
       "      <td>Potato</td>\n",
       "      <td>Late_blight</td>\n",
       "      <td>Potato___Late_blight</td>\n",
       "      <td>1000</td>\n",
       "    </tr>\n",
       "    <tr>\n",
       "      <th>33</th>\n",
       "      <td>Raspberry</td>\n",
       "      <td>healthy</td>\n",
       "      <td>Raspberry___healthy</td>\n",
       "      <td>371</td>\n",
       "    </tr>\n",
       "    <tr>\n",
       "      <th>4</th>\n",
       "      <td>Soybean</td>\n",
       "      <td>healthy</td>\n",
       "      <td>Soybean___healthy</td>\n",
       "      <td>5090</td>\n",
       "    </tr>\n",
       "    <tr>\n",
       "      <th>5</th>\n",
       "      <td>Squash</td>\n",
       "      <td>Powdery_mildew</td>\n",
       "      <td>Squash___Powdery_mildew</td>\n",
       "      <td>1835</td>\n",
       "    </tr>\n",
       "    <tr>\n",
       "      <th>26</th>\n",
       "      <td>Strawberry</td>\n",
       "      <td>healthy</td>\n",
       "      <td>Strawberry___healthy</td>\n",
       "      <td>456</td>\n",
       "    </tr>\n",
       "    <tr>\n",
       "      <th>11</th>\n",
       "      <td>Strawberry</td>\n",
       "      <td>Leaf_scorch</td>\n",
       "      <td>Strawberry___Leaf_scorch</td>\n",
       "      <td>1109</td>\n",
       "    </tr>\n",
       "    <tr>\n",
       "      <th>34</th>\n",
       "      <td>Tomato</td>\n",
       "      <td>Leaf_Mold</td>\n",
       "      <td>Tomato___Leaf_Mold</td>\n",
       "      <td>952</td>\n",
       "    </tr>\n",
       "    <tr>\n",
       "      <th>1</th>\n",
       "      <td>Tomato</td>\n",
       "      <td>healthy</td>\n",
       "      <td>Tomato___healthy</td>\n",
       "      <td>1591</td>\n",
       "    </tr>\n",
       "    <tr>\n",
       "      <th>35</th>\n",
       "      <td>Tomato</td>\n",
       "      <td>Spider_mites Two-spotted_spider_mite</td>\n",
       "      <td>Tomato___Spider_mites Two-spotted_spider_mite</td>\n",
       "      <td>1676</td>\n",
       "    </tr>\n",
       "    <tr>\n",
       "      <th>8</th>\n",
       "      <td>Tomato</td>\n",
       "      <td>Early_blight</td>\n",
       "      <td>Tomato___Early_blight</td>\n",
       "      <td>1000</td>\n",
       "    </tr>\n",
       "    <tr>\n",
       "      <th>9</th>\n",
       "      <td>Tomato</td>\n",
       "      <td>Septoria_leaf_spot</td>\n",
       "      <td>Tomato___Septoria_leaf_spot</td>\n",
       "      <td>1771</td>\n",
       "    </tr>\n",
       "    <tr>\n",
       "      <th>21</th>\n",
       "      <td>Tomato</td>\n",
       "      <td>Target_Spot</td>\n",
       "      <td>Tomato___Target_Spot</td>\n",
       "      <td>1404</td>\n",
       "    </tr>\n",
       "    <tr>\n",
       "      <th>15</th>\n",
       "      <td>Tomato</td>\n",
       "      <td>Bacterial_spot</td>\n",
       "      <td>Tomato___Bacterial_spot</td>\n",
       "      <td>2127</td>\n",
       "    </tr>\n",
       "    <tr>\n",
       "      <th>14</th>\n",
       "      <td>Tomato</td>\n",
       "      <td>Tomato_Yellow_Leaf_Curl_Virus</td>\n",
       "      <td>Tomato___Tomato_Yellow_Leaf_Curl_Virus</td>\n",
       "      <td>5357</td>\n",
       "    </tr>\n",
       "    <tr>\n",
       "      <th>25</th>\n",
       "      <td>Tomato</td>\n",
       "      <td>Tomato_mosaic_virus</td>\n",
       "      <td>Tomato___Tomato_mosaic_virus</td>\n",
       "      <td>373</td>\n",
       "    </tr>\n",
       "    <tr>\n",
       "      <th>0</th>\n",
       "      <td>Tomato</td>\n",
       "      <td>Late_blight</td>\n",
       "      <td>Tomato___Late_blight</td>\n",
       "      <td>1909</td>\n",
       "    </tr>\n",
       "  </tbody>\n",
       "</table>\n",
       "</div>"
      ],
      "text/plain": [
       "                      Plant                               Disease  \\\n",
       "27                    Apple                               healthy   \n",
       "20                    Apple                      Cedar_apple_rust   \n",
       "16                    Apple                             Black_rot   \n",
       "13                    Apple                            Apple_scab   \n",
       "17                Blueberry                               healthy   \n",
       "18  Cherry_(including_sour)                        Powdery_mildew   \n",
       "30  Cherry_(including_sour)                               healthy   \n",
       "31             Corn_(maize)                          Common_rust_   \n",
       "10             Corn_(maize)   Cercospora_leaf_spot Gray_leaf_spot   \n",
       "37             Corn_(maize)                               healthy   \n",
       "7              Corn_(maize)                  Northern_Leaf_Blight   \n",
       "23                    Grape    Leaf_blight_(Isariopsis_Leaf_Spot)   \n",
       "28                    Grape                             Black_rot   \n",
       "32                    Grape                  Esca_(Black_Measles)   \n",
       "2                     Grape                               healthy   \n",
       "3                    Orange       Haunglongbing_(Citrus_greening)   \n",
       "19                    Peach                        Bacterial_spot   \n",
       "12                    Peach                               healthy   \n",
       "36             Pepper,_bell                        Bacterial_spot   \n",
       "22             Pepper,_bell                               healthy   \n",
       "6                    Potato                               healthy   \n",
       "29                   Potato                          Early_blight   \n",
       "24                   Potato                           Late_blight   \n",
       "33                Raspberry                               healthy   \n",
       "4                   Soybean                               healthy   \n",
       "5                    Squash                        Powdery_mildew   \n",
       "26               Strawberry                               healthy   \n",
       "11               Strawberry                           Leaf_scorch   \n",
       "34                   Tomato                             Leaf_Mold   \n",
       "1                    Tomato                               healthy   \n",
       "35                   Tomato  Spider_mites Two-spotted_spider_mite   \n",
       "8                    Tomato                          Early_blight   \n",
       "9                    Tomato                    Septoria_leaf_spot   \n",
       "21                   Tomato                           Target_Spot   \n",
       "15                   Tomato                        Bacterial_spot   \n",
       "14                   Tomato         Tomato_Yellow_Leaf_Curl_Virus   \n",
       "25                   Tomato                   Tomato_mosaic_virus   \n",
       "0                    Tomato                           Late_blight   \n",
       "\n",
       "                                            Directory  Files  \n",
       "27                                    Apple___healthy   1645  \n",
       "20                           Apple___Cedar_apple_rust    275  \n",
       "16                                  Apple___Black_rot    621  \n",
       "13                                 Apple___Apple_scab    630  \n",
       "17                                Blueberry___healthy   1502  \n",
       "18           Cherry_(including_sour)___Powdery_mildew   1052  \n",
       "30                  Cherry_(including_sour)___healthy    854  \n",
       "31                        Corn_(maize)___Common_rust_   1192  \n",
       "10  Corn_(maize)___Cercospora_leaf_spot Gray_leaf_...    513  \n",
       "37                             Corn_(maize)___healthy   1162  \n",
       "7                 Corn_(maize)___Northern_Leaf_Blight    985  \n",
       "23         Grape___Leaf_blight_(Isariopsis_Leaf_Spot)   1076  \n",
       "28                                  Grape___Black_rot   1180  \n",
       "32                       Grape___Esca_(Black_Measles)   1383  \n",
       "2                                     Grape___healthy    423  \n",
       "3            Orange___Haunglongbing_(Citrus_greening)   5507  \n",
       "19                             Peach___Bacterial_spot   2297  \n",
       "12                                    Peach___healthy    360  \n",
       "36                      Pepper,_bell___Bacterial_spot    997  \n",
       "22                             Pepper,_bell___healthy   1478  \n",
       "6                                    Potato___healthy    152  \n",
       "29                              Potato___Early_blight   1000  \n",
       "24                               Potato___Late_blight   1000  \n",
       "33                                Raspberry___healthy    371  \n",
       "4                                   Soybean___healthy   5090  \n",
       "5                             Squash___Powdery_mildew   1835  \n",
       "26                               Strawberry___healthy    456  \n",
       "11                           Strawberry___Leaf_scorch   1109  \n",
       "34                                 Tomato___Leaf_Mold    952  \n",
       "1                                    Tomato___healthy   1591  \n",
       "35      Tomato___Spider_mites Two-spotted_spider_mite   1676  \n",
       "8                               Tomato___Early_blight   1000  \n",
       "9                         Tomato___Septoria_leaf_spot   1771  \n",
       "21                               Tomato___Target_Spot   1404  \n",
       "15                            Tomato___Bacterial_spot   2127  \n",
       "14             Tomato___Tomato_Yellow_Leaf_Curl_Virus   5357  \n",
       "25                       Tomato___Tomato_mosaic_virus    373  \n",
       "0                                Tomato___Late_blight   1909  "
      ]
     },
     "execution_count": 5,
     "metadata": {},
     "output_type": "execute_result"
    }
   ],
   "source": [
    "# Check the content\n",
    "\n",
    "pairs = list()\n",
    "number = list()\n",
    "\n",
    "for directory in os.listdir(path=DATA_DIR):\n",
    "    columns = directory.split('___')\n",
    "    columns.append(directory)\n",
    "    \n",
    "    sub_path = DATA_DIR + '/' + directory\n",
    "    columns.append(len([name for name in os.listdir(path=sub_path)]))\n",
    "    \n",
    "    pairs.append(columns)\n",
    "    \n",
    "pairs = pd.DataFrame(pairs, columns=['Plant', 'Disease', 'Directory', 'Files'])\n",
    "pairs.sort_values(by='Plant')"
   ]
  },
  {
   "cell_type": "code",
   "execution_count": 6,
   "id": "96bcf147",
   "metadata": {
    "execution": {
     "iopub.execute_input": "2023-05-03T14:29:47.944413Z",
     "iopub.status.busy": "2023-05-03T14:29:47.943550Z",
     "iopub.status.idle": "2023-05-03T14:29:47.950853Z",
     "shell.execute_reply": "2023-05-03T14:29:47.949715Z"
    },
    "papermill": {
     "duration": 0.016184,
     "end_time": "2023-05-03T14:29:47.953607",
     "exception": false,
     "start_time": "2023-05-03T14:29:47.937423",
     "status": "completed"
    },
    "tags": []
   },
   "outputs": [
    {
     "name": "stdout",
     "output_type": "stream",
     "text": [
      "['Orange___Haunglongbing_(Citrus_greening)' 'Soybean___healthy'\n",
      " 'Squash___Powdery_mildew' 'Blueberry___healthy' 'Raspberry___healthy']\n"
     ]
    }
   ],
   "source": [
    "# Save the directories to be deleted\n",
    "rows_to_drop = [17, 3, 33, 4, 5]\n",
    "dir_to_delete = pairs[pairs.index.isin(rows_to_drop)]['Directory']\n",
    "print(dir_to_delete.values)"
   ]
  },
  {
   "cell_type": "code",
   "execution_count": 7,
   "id": "aeb2fef8",
   "metadata": {
    "execution": {
     "iopub.execute_input": "2023-05-03T14:29:47.964436Z",
     "iopub.status.busy": "2023-05-03T14:29:47.963920Z",
     "iopub.status.idle": "2023-05-03T14:29:48.491715Z",
     "shell.execute_reply": "2023-05-03T14:29:48.489662Z"
    },
    "papermill": {
     "duration": 0.535132,
     "end_time": "2023-05-03T14:29:48.493433",
     "exception": true,
     "start_time": "2023-05-03T14:29:47.958301",
     "status": "failed"
    },
    "tags": []
   },
   "outputs": [
    {
     "ename": "FileNotFoundError",
     "evalue": "[Errno 2] No such file or directory: './images/train/Orange___Haunglongbing_(Citrus_greening)'",
     "output_type": "error",
     "traceback": [
      "\u001b[0;31m---------------------------------------------------------------------------\u001b[0m",
      "\u001b[0;31mFileNotFoundError\u001b[0m                         Traceback (most recent call last)",
      "Cell \u001b[0;32mIn[7], line 11\u001b[0m\n\u001b[1;32m      9\u001b[0m \u001b[38;5;28;01mfor\u001b[39;00m directory \u001b[38;5;129;01min\u001b[39;00m PATHS:\n\u001b[1;32m     10\u001b[0m     d \u001b[38;5;241m=\u001b[39m directory \u001b[38;5;241m+\u001b[39m \u001b[38;5;124m'\u001b[39m\u001b[38;5;124m/\u001b[39m\u001b[38;5;124m'\u001b[39m \u001b[38;5;241m+\u001b[39m sub_directory\n\u001b[0;32m---> 11\u001b[0m     \u001b[43mshutil\u001b[49m\u001b[38;5;241;43m.\u001b[39;49m\u001b[43mrmtree\u001b[49m\u001b[43m(\u001b[49m\u001b[43md\u001b[49m\u001b[43m)\u001b[49m\n",
      "File \u001b[0;32m/opt/conda/lib/python3.10/shutil.py:715\u001b[0m, in \u001b[0;36mrmtree\u001b[0;34m(path, ignore_errors, onerror)\u001b[0m\n\u001b[1;32m    713\u001b[0m     orig_st \u001b[38;5;241m=\u001b[39m os\u001b[38;5;241m.\u001b[39mlstat(path)\n\u001b[1;32m    714\u001b[0m \u001b[38;5;28;01mexcept\u001b[39;00m \u001b[38;5;167;01mException\u001b[39;00m:\n\u001b[0;32m--> 715\u001b[0m     \u001b[43monerror\u001b[49m\u001b[43m(\u001b[49m\u001b[43mos\u001b[49m\u001b[38;5;241;43m.\u001b[39;49m\u001b[43mlstat\u001b[49m\u001b[43m,\u001b[49m\u001b[43m \u001b[49m\u001b[43mpath\u001b[49m\u001b[43m,\u001b[49m\u001b[43m \u001b[49m\u001b[43msys\u001b[49m\u001b[38;5;241;43m.\u001b[39;49m\u001b[43mexc_info\u001b[49m\u001b[43m(\u001b[49m\u001b[43m)\u001b[49m\u001b[43m)\u001b[49m\n\u001b[1;32m    716\u001b[0m     \u001b[38;5;28;01mreturn\u001b[39;00m\n\u001b[1;32m    717\u001b[0m \u001b[38;5;28;01mtry\u001b[39;00m:\n",
      "File \u001b[0;32m/opt/conda/lib/python3.10/shutil.py:713\u001b[0m, in \u001b[0;36mrmtree\u001b[0;34m(path, ignore_errors, onerror)\u001b[0m\n\u001b[1;32m    710\u001b[0m \u001b[38;5;66;03m# Note: To guard against symlink races, we use the standard\u001b[39;00m\n\u001b[1;32m    711\u001b[0m \u001b[38;5;66;03m# lstat()/open()/fstat() trick.\u001b[39;00m\n\u001b[1;32m    712\u001b[0m \u001b[38;5;28;01mtry\u001b[39;00m:\n\u001b[0;32m--> 713\u001b[0m     orig_st \u001b[38;5;241m=\u001b[39m \u001b[43mos\u001b[49m\u001b[38;5;241;43m.\u001b[39;49m\u001b[43mlstat\u001b[49m\u001b[43m(\u001b[49m\u001b[43mpath\u001b[49m\u001b[43m)\u001b[49m\n\u001b[1;32m    714\u001b[0m \u001b[38;5;28;01mexcept\u001b[39;00m \u001b[38;5;167;01mException\u001b[39;00m:\n\u001b[1;32m    715\u001b[0m     onerror(os\u001b[38;5;241m.\u001b[39mlstat, path, sys\u001b[38;5;241m.\u001b[39mexc_info())\n",
      "\u001b[0;31mFileNotFoundError\u001b[0m: [Errno 2] No such file or directory: './images/train/Orange___Haunglongbing_(Citrus_greening)'"
     ]
    }
   ],
   "source": [
    "# Remove the directories we saved before\n",
    "import shutil\n",
    "TRAIN_PATH = \"./images/train\"\n",
    "VAL_PATH = \"./images/val\"\n",
    "TEST_PATH  = \"./images/test\"\n",
    "PATHS = [TRAIN_PATH, VAL_PATH, TEST_PATH]\n",
    "\n",
    "for sub_directory in dir_to_delete.values:\n",
    "    for directory in PATHS:\n",
    "        d = directory + '/' + sub_directory\n",
    "        shutil.rmtree(d)"
   ]
  },
  {
   "cell_type": "markdown",
   "id": "5952d1e1",
   "metadata": {
    "papermill": {
     "duration": null,
     "end_time": null,
     "exception": null,
     "start_time": null,
     "status": "pending"
    },
    "tags": []
   },
   "source": [
    "# **Split the data**"
   ]
  },
  {
   "cell_type": "code",
   "execution_count": null,
   "id": "6136f0f0",
   "metadata": {
    "papermill": {
     "duration": null,
     "end_time": null,
     "exception": null,
     "start_time": null,
     "status": "pending"
    },
    "tags": []
   },
   "outputs": [],
   "source": [
    "import splitfolders\n",
    "# Split the data into folders\n",
    "splitfolders.ratio(DATA_DIR,output = \"images\",seed = 42,ratio = (0.80,0.10,0.10))"
   ]
  },
  {
   "cell_type": "markdown",
   "id": "25186819",
   "metadata": {
    "papermill": {
     "duration": null,
     "end_time": null,
     "exception": null,
     "start_time": null,
     "status": "pending"
    },
    "tags": []
   },
   "source": [
    "# **Data Augmentation**"
   ]
  },
  {
   "cell_type": "code",
   "execution_count": null,
   "id": "03825871",
   "metadata": {
    "execution": {
     "iopub.execute_input": "2023-05-03T13:46:44.451683Z",
     "iopub.status.busy": "2023-05-03T13:46:44.451323Z",
     "iopub.status.idle": "2023-05-03T13:46:46.159906Z",
     "shell.execute_reply": "2023-05-03T13:46:46.159055Z",
     "shell.execute_reply.started": "2023-05-03T13:46:44.451653Z"
    },
    "jupyter": {
     "source_hidden": true
    },
    "papermill": {
     "duration": null,
     "end_time": null,
     "exception": null,
     "start_time": null,
     "status": "pending"
    },
    "tags": []
   },
   "outputs": [],
   "source": [
    "# Generate batches of tensor image data with real-time data augmentation\n",
    "import tensorflow as tf\n",
    "datagen = tf.keras.preprocessing.image.ImageDataGenerator(rescale=1/255)\n",
    "\n",
    "train_gen = datagen.flow_from_directory(directory = TRAIN_PATH, \n",
    "                                          class_mode=\"categorical\",\n",
    "                                          target_size = IMAGE_SHAPE,\n",
    "                                          batch_size = BATCH_SIZE,\n",
    "                                          color_mode='rgb',\n",
    "                                          seed = 1234,\n",
    "                                          shuffle = True)\n",
    "\n",
    "val_gen = datagen.flow_from_directory(directory = VAL_PATH, \n",
    "                                          class_mode=\"categorical\",\n",
    "                                          target_size = IMAGE_SHAPE,\n",
    "                                          batch_size = BATCH_SIZE,\n",
    "                                          color_mode='rgb',\n",
    "                                          seed = 1234,\n",
    "                                          shuffle = True)\n",
    "\n",
    "test_gen = datagen.flow_from_directory(directory = TEST_PATH, \n",
    "                                          class_mode=\"categorical\",\n",
    "                                          target_size = IMAGE_SHAPE,\n",
    "                                          batch_size = BATCH_SIZE,\n",
    "                                          color_mode='rgb',\n",
    "                                          shuffle = False)"
   ]
  },
  {
   "cell_type": "markdown",
   "id": "a1786859",
   "metadata": {
    "papermill": {
     "duration": null,
     "end_time": null,
     "exception": null,
     "start_time": null,
     "status": "pending"
    },
    "tags": []
   },
   "source": [
    "# VGG-16 - Transfer Learning"
   ]
  },
  {
   "cell_type": "code",
   "execution_count": null,
   "id": "c24ee623",
   "metadata": {
    "execution": {
     "iopub.execute_input": "2023-05-03T13:47:00.809452Z",
     "iopub.status.busy": "2023-05-03T13:47:00.809096Z",
     "iopub.status.idle": "2023-05-03T13:47:01.182964Z",
     "shell.execute_reply": "2023-05-03T13:47:01.182050Z",
     "shell.execute_reply.started": "2023-05-03T13:47:00.809423Z"
    },
    "papermill": {
     "duration": null,
     "end_time": null,
     "exception": null,
     "start_time": null,
     "status": "pending"
    },
    "tags": []
   },
   "outputs": [],
   "source": [
    "# Make subdirectories train, val, test\n",
    "#os.mkdir(os.path.join('models', 'first_version'))\n",
    "# Here we create checkpoint for the first model\n",
    "CHECKPOINT_PATH_MODEL_FIRST = \"./models/first_version\"\n",
    "checkpoint_callback = tf.keras.callbacks.ModelCheckpoint(CHECKPOINT_PATH_MODEL_FIRST,\n",
    "                                      monitor='val_loss',\n",
    "                                      save_best_only=True)\n",
    "# Set early stopping for 2 epochs\n",
    "early_stopping = EarlyStopping(monitor='val_loss', patience = 2, restore_best_weights=True)\n",
    "# Here VGG16 pretrained model is downloaded\n",
    "#We do not include the last dense layers by setting include_top parameter to False \n",
    "vgg16_base_model = VGG16(include_top=False, weights='imagenet', input_shape=(224, 224, 3), pooling='max')\n",
    "# We fix the parameters of the pretrained model\n",
    "vgg16_base_model.trainable = False\n",
    "# Here we add final layers to the first model\n",
    "inputs = vgg16_base_model.input\n",
    "\n",
    "x = BatchNormalization()(vgg16_base_model.output)\n",
    "x = Dense(1024, activation='relu')(x)\n",
    "x = Dropout(0.45, seed=1234)(x)\n",
    "x = Dense(512, activation='relu')(x)\n",
    "x = Dropout(0.45, seed=1235)(x)\n",
    "x = Flatten()(x)\n",
    "\n",
    "outputs = Dense(33, activation='softmax')(x)\n",
    "\n",
    "vgg16_model = Model(inputs=inputs, outputs=outputs)\n",
    "# Here we check if everything is okay with the model\n",
    "vgg16_model.compile(\n",
    "    optimizer=Adam(0.0001),\n",
    "    loss='categorical_crossentropy',\n",
    "    metrics=['accuracy', f1_macro]\n",
    "    \n",
    ")"
   ]
  },
  {
   "cell_type": "code",
   "execution_count": null,
   "id": "76cbb2e4",
   "metadata": {
    "execution": {
     "iopub.execute_input": "2023-05-03T13:47:05.997671Z",
     "iopub.status.busy": "2023-05-03T13:47:05.997314Z"
    },
    "papermill": {
     "duration": null,
     "end_time": null,
     "exception": null,
     "start_time": null,
     "status": "pending"
    },
    "tags": []
   },
   "outputs": [],
   "source": [
    "EPOCHS = 20\n",
    "history = vgg16_model.fit(\n",
    "    train_gen, \n",
    "    epochs=EPOCHS, \n",
    "    validation_data=val_gen, \n",
    "    callbacks=[checkpoint_callback, early_stopping]\n",
    ")\n",
    "\n",
    "# Get the test set accuracy and F1 macro score\n",
    "test_loss, test_accuracy, test_f1_macro = vgg16_model.evaluate(test_gen)\n",
    "\n",
    "print(f'Test set accuracy: {test_accuracy:.4f}')\n",
    "print(f'Test set F1 macro: {test_f1_macro:.4f}')"
   ]
  },
  {
   "cell_type": "code",
   "execution_count": null,
   "id": "00cbbee4",
   "metadata": {
    "papermill": {
     "duration": null,
     "end_time": null,
     "exception": null,
     "start_time": null,
     "status": "pending"
    },
    "tags": []
   },
   "outputs": [],
   "source": [
    "results = vgg16_model.evaluate(test_gen, verbose=1)"
   ]
  },
  {
   "cell_type": "code",
   "execution_count": null,
   "id": "422872b2",
   "metadata": {
    "execution": {
     "iopub.execute_input": "2023-05-03T13:44:33.763354Z",
     "iopub.status.busy": "2023-05-03T13:44:33.763003Z",
     "iopub.status.idle": "2023-05-03T13:44:33.790534Z",
     "shell.execute_reply": "2023-05-03T13:44:33.789001Z",
     "shell.execute_reply.started": "2023-05-03T13:44:33.763325Z"
    },
    "papermill": {
     "duration": null,
     "end_time": null,
     "exception": null,
     "start_time": null,
     "status": "pending"
    },
    "tags": []
   },
   "outputs": [],
   "source": [
    "# Here we make the first plot for Loss\n",
    "Epochs = [i+1 for i in range(len(history.history['f1_macro']))]\n",
    "\n",
    "plt.plot(Epochs, history.history['loss'], label = 'training loss')\n",
    "plt.plot(Epochs, history.history['val_loss'], label = 'validation loss')\n",
    "plt.grid(True)\n",
    "plt.legend()\n",
    "plt.title('Training and Validation Loss')\n",
    "plt.xlabel('Epochs')\n",
    "plt.show()"
   ]
  },
  {
   "cell_type": "code",
   "execution_count": null,
   "id": "f1ca8aaa",
   "metadata": {
    "papermill": {
     "duration": null,
     "end_time": null,
     "exception": null,
     "start_time": null,
     "status": "pending"
    },
    "tags": []
   },
   "outputs": [],
   "source": []
  },
  {
   "cell_type": "markdown",
   "id": "3dfc6803",
   "metadata": {
    "papermill": {
     "duration": null,
     "end_time": null,
     "exception": null,
     "start_time": null,
     "status": "pending"
    },
    "tags": []
   },
   "source": [
    "# Inception"
   ]
  },
  {
   "cell_type": "code",
   "execution_count": null,
   "id": "862e4fab",
   "metadata": {
    "papermill": {
     "duration": null,
     "end_time": null,
     "exception": null,
     "start_time": null,
     "status": "pending"
    },
    "tags": []
   },
   "outputs": [],
   "source": []
  },
  {
   "cell_type": "markdown",
   "id": "0320a62c",
   "metadata": {
    "papermill": {
     "duration": null,
     "end_time": null,
     "exception": null,
     "start_time": null,
     "status": "pending"
    },
    "tags": []
   },
   "source": [
    "# ResNet"
   ]
  },
  {
   "cell_type": "code",
   "execution_count": null,
   "id": "a9fd3c94",
   "metadata": {
    "papermill": {
     "duration": null,
     "end_time": null,
     "exception": null,
     "start_time": null,
     "status": "pending"
    },
    "tags": []
   },
   "outputs": [],
   "source": []
  }
 ],
 "metadata": {
  "kernelspec": {
   "display_name": "Python 3",
   "language": "python",
   "name": "python3"
  },
  "language_info": {
   "codemirror_mode": {
    "name": "ipython",
    "version": 3
   },
   "file_extension": ".py",
   "mimetype": "text/x-python",
   "name": "python",
   "nbconvert_exporter": "python",
   "pygments_lexer": "ipython3",
   "version": "3.10.10"
  },
  "papermill": {
   "default_parameters": {},
   "duration": 40.66224,
   "end_time": "2023-05-03T14:29:52.070520",
   "environment_variables": {},
   "exception": true,
   "input_path": "__notebook__.ipynb",
   "output_path": "__notebook__.ipynb",
   "parameters": {},
   "start_time": "2023-05-03T14:29:11.408280",
   "version": "2.4.0"
  }
 },
 "nbformat": 4,
 "nbformat_minor": 5
}
